{
 "cells": [
  {
   "cell_type": "markdown",
   "metadata": {},
   "source": [
    "# Models tuning\n",
    "\n",
    "In previous notebooks, we conducted extensive experiments with numerous models and a wide range of features. In this notebook, we narrow our focus to a single model and a specific subset of features that are available in production. We will perform hyperparameter tuning and feature selection, utilizing techniques like cross-validation to refine the model. Our goal is to identify the most effective feature combinations and hyperparameter settings to optimize the model's accuracy for production deployment.\n"
   ]
  },
  {
   "cell_type": "markdown",
   "metadata": {},
   "source": [
    "## Import dependencies"
   ]
  },
  {
   "cell_type": "code",
   "execution_count": null,
   "metadata": {},
   "outputs": [],
   "source": [
    "import pandas as pd\n",
    "import numpy as np\n",
    "import matplotlib.pyplot as plt\n",
    "from sklearn.preprocessing import StandardScaler\n",
    "import xgboost as xgb\n",
    "import warnings\n",
    "import os\n",
    "from hyperopt import hp, fmin, tpe, Trials, STATUS_OK\n",
    "from sklearn.metrics import mean_absolute_error, mean_squared_error\n",
    "\n",
    "warnings.filterwarnings('ignore')\n",
    "\n",
    "pd.set_option('display.max_rows', None)\n",
    "pd.set_option('display.max_columns', None)\n",
    "pd.set_option('display.width', 2000)\n",
    "pd.set_option('display.float_format', '{:20,.2f}'.format)\n",
    "pd.set_option('display.max_colwidth', None)"
   ]
  },
  {
   "cell_type": "markdown",
   "metadata": {},
   "source": [
    "## Load data"
   ]
  },
  {
   "cell_type": "markdown",
   "metadata": {},
   "source": [
    "### Load the training dataset containing only the features to be used in production + engineered features"
   ]
  },
  {
   "cell_type": "code",
   "execution_count": null,
   "metadata": {},
   "outputs": [],
   "source": [
    "GEN_DATA_PATH = os.path.join('..','..', 'data', '5_training_production_model_data.parquet')\n",
    "df = pd.read_parquet(GEN_DATA_PATH)\n",
    "TARGET_COL = 'DC Gen. Power'\n",
    "display(df.head(5))"
   ]
  },
  {
   "cell_type": "code",
   "execution_count": null,
   "metadata": {},
   "outputs": [],
   "source": [
    "x = df.drop(columns=[TARGET_COL])\n",
    "y = df[TARGET_COL]\n",
    "x_scaler = StandardScaler()\n",
    "y_scaler = StandardScaler()\n",
    "x_scaled = x_scaler.fit_transform(x)\n",
    "y_scaled = y_scaler.fit_transform(y.values.reshape(-1, 1))\n",
    "\n",
    "print('All: ', len(df))"
   ]
  },
  {
   "cell_type": "markdown",
   "metadata": {},
   "source": [
    "# Training"
   ]
  },
  {
   "cell_type": "code",
   "execution_count": null,
   "metadata": {},
   "outputs": [],
   "source": [
    "results = pd.DataFrame()\n",
    "def calculate_metrics(y_pred, y_val, model_name, hyperparams, fold, features):\n",
    "    \"\"\"\n",
    "    Calculate metrics for the model\n",
    "    \"\"\"\n",
    "    global results\n",
    "    mse = mean_squared_error(y_val, y_pred)\n",
    "    rmse = np.sqrt(mse)\n",
    "    mae = mean_absolute_error(y_val, y_pred)    \n",
    "\n",
    "    df = pd.DataFrame({\n",
    "        'model': [model_name],        \n",
    "        'mae': [mae],\n",
    "        'mse': [mse],\n",
    "        'mae': [mae],\n",
    "        'hyperparams': [hyperparams],\n",
    "        'fold': [fold],\n",
    "        'features': [features]\n",
    "    })\n",
    "    results = pd.concat([results, df])   \n",
    "\n",
    "    return mse, rmse, mae\n",
    "\n",
    "def plot_predictions(y_pred, y_actual, n=200):\n",
    "    plt.figure(figsize=(20, 8))\n",
    "    plt.plot(y_actual[-n:], label='Actual')\n",
    "    plt.plot(y_pred[-n:], label='Predicted')\n",
    "    plt.legend()\n",
    "    plt.show()\n"
   ]
  },
  {
   "cell_type": "markdown",
   "metadata": {},
   "source": [
    "## Feature Selection"
   ]
  },
  {
   "cell_type": "code",
   "execution_count": null,
   "metadata": {},
   "outputs": [],
   "source": [
    "\n",
    "\n",
    "essential_features = ['Temperature', 'Precipitation' 'Shortwave Radiation']\n",
    "\n",
    "all_features = x.columns.tolist()\n",
    "\n",
    "temporal_features = [\n",
    "    'day', 'season_0', 'season_1', 'season_2', 'season_3', \n",
    "    'month_1', 'month_2', 'month_3', 'month_4', 'month_5', \n",
    "    'month_6', 'month_7', 'month_8', 'month_9', 'month_10', \n",
    "    'month_11', 'month_12', 'hour_0', 'hour_1', 'hour_2', \n",
    "    'hour_3', 'hour_4', 'hour_5', 'hour_6', 'hour_7', \n",
    "    'hour_8', 'hour_9', 'hour_10', 'hour_11', 'hour_12', \n",
    "    'hour_13', 'hour_14', 'hour_15', 'hour_16', 'hour_17', \n",
    "    'hour_18', 'hour_19', 'hour_20', 'hour_21', 'hour_22', \n",
    "    'hour_23', 'Hours Since Last Rain'\n",
    "]\n",
    "\n",
    "lag_features = [\n",
    "    'DC Gen. Power 1 Hour Lag', 'DC Gen. Power 2 Hour Lag', 'DC Gen. Power 4 Hour Lag', \n",
    "    'DC Gen. Power 24 Hour Lag', 'DC Gen. Power 720 Hour Lag', \n",
    "    'DC Gen. Power 24 Hour Rolling Mean', 'DC Gen. Power 24 Hour Rolling Std', \n",
    "    'DC Gen. Power 24 Hour Rolling Max', 'DC Gen. Power 24 Hour Rolling EMA', \n",
    "    'DC Gen. Power 48 Hour Rolling Mean', 'DC Gen. Power 48 Hour Rolling Std', \n",
    "    'DC Gen. Power 48 Hour Rolling Max', 'DC Gen. Power 48 Hour Rolling EMA', \n",
    "    'DC Gen. Power 720 Hour Rolling Mean', 'DC Gen. Power 720 Hour Rolling Std', \n",
    "    'DC Gen. Power 720 Hour Rolling Max', 'DC Gen. Power 720 Hour Rolling EMA'\n",
    "]\n",
    "\n",
    "\n",
    "rolling_features = [x for x in df.columns if 'Rolling' in x]\n",
    "seasonal_temporal_features = [\n",
    "    'day', 'season_0', 'season_1', 'season_2', 'season_3', \n",
    "    'month_1', 'month_2', 'month_3', 'month_4', 'month_5', \n",
    "    'month_6', 'month_7', 'month_8', 'month_9', 'month_10', \n",
    "    'month_11', 'month_12', 'hour_0', 'hour_1', 'hour_2', \n",
    "    'hour_3', 'hour_4', 'hour_5', 'hour_6', 'hour_7', \n",
    "    'hour_8', 'hour_9', 'hour_10', 'hour_11', 'hour_12', \n",
    "    'hour_13', 'hour_14', 'hour_15', 'hour_16', 'hour_17', \n",
    "    'hour_18', 'hour_19', 'hour_20', 'hour_21', 'hour_22', \n",
    "    'hour_23'\n",
    "]\n",
    "\n",
    "domain_knowledge_features =  ['Hours Since Last Rain','Solar Zenith Angle']\n",
    "\n",
    "FEATURE_SETS = {\n",
    "    'all': all_features,\n",
    "    'temporal': essential_features + temporal_features,\n",
    "    'lag': essential_features + lag_features,\n",
    "    'rolling': essential_features + rolling_features,\n",
    "    'seasonal_temporal': essential_features + seasonal_temporal_features,\n",
    "    'domain_knowledge': essential_features + domain_knowledge_features\n",
    "}\n"
   ]
  },
  {
   "cell_type": "markdown",
   "metadata": {},
   "source": [
    "## K-Fold Cross Validation\n"
   ]
  },
  {
   "cell_type": "code",
   "execution_count": null,
   "metadata": {},
   "outputs": [],
   "source": [
    "from sklearn.model_selection import TimeSeriesSplit\n",
    "\n",
    "tscv = TimeSeriesSplit(n_splits=5, test_size=int(0.12*len(x)))\n",
    "results = pd.DataFrame()\n",
    "\n",
    "def run_k_fold_cv(model_factory, space, max_evals=100):\n",
    "    global best_loss, best_model, y_scaler, results\n",
    " \n",
    "    best_loss = np.inf\n",
    "    best_model = None\n",
    "    \n",
    "    for fold, (train_idx, val_idx) in enumerate(tscv.split(x)):\n",
    "        for features_name, feature_set in FEATURE_SETS.items(): \n",
    "            x_fold = x.drop(columns=[col for col in x.columns if col not in feature_set])\n",
    "            x_fold_scaled = x_scaler.fit_transform(x_fold)\n",
    "            print(f\"Fold {fold + 1}\")\n",
    "            print(f\"Train: {len(train_idx)}\")\n",
    "            print(f\"Validation: {len(val_idx)}\")\n",
    "            x_train_fold, x_val_fold = x_fold_scaled[train_idx], x_fold_scaled[val_idx]\n",
    "            y_train_fold, y_val_fold = y_scaled[train_idx], y[val_idx]\n",
    "            \n",
    "            def objective(params):\n",
    "                model = model_factory(**params)\n",
    "                model.fit(x_train_fold, y_train_fold)\n",
    "                y_pred = model.predict(x_val_fold)\n",
    "                y_pred = y_scaler.inverse_transform(y_pred.reshape(-1, 1))\n",
    "                mae = mean_absolute_error(y_val_fold, y_pred)\n",
    "                model_name = model.__class__.__name__\n",
    "                calculate_metrics(y_pred, y_val_fold, model_name, params, fold +1, features_name)\n",
    "                global best_loss, best_model\n",
    "                if mae < best_loss:\n",
    "                    best_loss = mae\n",
    "                    best_model = model\n",
    "                    \n",
    "                return {'loss': mae, 'status': STATUS_OK}\n",
    "            \n",
    "            trials = Trials()\n",
    "            fmin(objective, space, algo=tpe.suggest, max_evals=max_evals, trials=trials)\n",
    "    \n",
    "    return best_model\n",
    "\n",
    "\n"
   ]
  },
  {
   "cell_type": "markdown",
   "metadata": {},
   "source": [
    "### CatBoost Regressor\n",
    "\n",
    "Given that CatBoost models have delivered the best results in prior experiments, we will focus exclusively on fine-tuning the hyperparameters for this model."
   ]
  },
  {
   "cell_type": "code",
   "execution_count": null,
   "metadata": {},
   "outputs": [],
   "source": [
    "from catboost import CatBoostRegressor\n",
    "\n",
    "model_factory = lambda **params: CatBoostRegressor(**params, verbose=False)\n",
    "space = {\n",
    "    'iterations': hp.choice('iterations', [50, 100, 200, 400]),\n",
    "    'learning_rate': hp.uniform('learning_rate', 0.01, 0.2),\n",
    "    'depth': hp.uniformint('depth', 3, 15),\n",
    "    'l2_leaf_reg': hp.uniform('l2_leaf_reg', 1, 10),\n",
    "    'border_count': hp.uniformint('border_count', 32, 255),\n",
    "    'subsample': hp.uniform('subsample', 0.5, 1.0),\n",
    "    'rsm': hp.uniform('rsm', 0.5, 1.0),\n",
    "    'random_strength': hp.uniform('random_strength', 0.5, 1.0),\n",
    "    'bagging_temperature': hp.uniform('bagging_temperature', 0.0, 1.0),\n",
    "}\n",
    "\n",
    "best_model = run_k_fold_cv(model_factory, space, max_evals=100)\n"
   ]
  },
  {
   "cell_type": "markdown",
   "metadata": {},
   "source": [
    "# Results"
   ]
  },
  {
   "cell_type": "code",
   "execution_count": null,
   "metadata": {},
   "outputs": [],
   "source": [
    "display(results.sort_values('mae').head(20))\n",
    "results['hyperparams'] = results['hyperparams'].astype(str)\n",
    "results_group_all_folds = results.groupby(['model', 'features','hyperparams']).mae.mean().sort_values()"
   ]
  },
  {
   "cell_type": "code",
   "execution_count": 43,
   "metadata": {},
   "outputs": [
    {
     "data": {
      "text/plain": [
       "model              features  hyperparams                                                                                                                                                                                                                                                                                                                      \n",
       "CatBoostRegressor  all       {'bagging_temperature': 0.3960590286279437, 'border_count': 188, 'depth': 7, 'iterations': 400, 'l2_leaf_reg': 1.327925877118482, 'learning_rate': 0.0772764990599374, 'random_strength': 0.518174597745601, 'rsm': 0.9381818176925532, 'subsample': 0.848270593585808}                                                                         4,109.71\n",
       "                             {'bagging_temperature': 0.5370187694440764, 'border_count': 188, 'depth': 7, 'iterations': 400, 'l2_leaf_reg': 1.0118314912996154, 'learning_rate': 0.07470502426645866, 'random_strength': 0.5236926881366905, 'rsm': 0.7214254522691629, 'subsample': 0.8434584093158926}                                                                     4,115.68\n",
       "                             {'bagging_temperature': 0.5638581507504913, 'border_count': 231, 'depth': 6, 'iterations': 400, 'l2_leaf_reg': 1.3432573912250583, 'learning_rate': 0.08386830485328264, 'random_strength': 0.5164659440784284, 'rsm': 0.8208313868136171, 'subsample': 0.7430536289486115}                                                                     4,121.47\n",
       "                             {'bagging_temperature': 0.3985093707708194, 'border_count': 170, 'depth': 6, 'iterations': 400, 'l2_leaf_reg': 1.3158572722295605, 'learning_rate': 0.09352212459896268, 'random_strength': 0.5762711141194412, 'rsm': 0.6885742229492033, 'subsample': 0.8996940690144981}                                                                     4,177.00\n",
       "                             {'bagging_temperature': 0.9697998352158186, 'border_count': 123, 'depth': 5, 'iterations': 400, 'l2_leaf_reg': 4.18157751432967, 'learning_rate': 0.13321820709044072, 'random_strength': 0.5437030800315786, 'rsm': 0.7108896567884168, 'subsample': 0.5226429662851458}                                                                       4,193.66\n",
       "                             {'bagging_temperature': 0.6882495057574338, 'border_count': 199, 'depth': 6, 'iterations': 400, 'l2_leaf_reg': 1.8280331761386615, 'learning_rate': 0.09931378969731991, 'random_strength': 0.6042982734760882, 'rsm': 0.7907513878522647, 'subsample': 0.8733241647468833}                                                                     4,196.64\n",
       "                             {'bagging_temperature': 0.5122677418210078, 'border_count': 194, 'depth': 6, 'iterations': 400, 'l2_leaf_reg': 3.89053558455507, 'learning_rate': 0.1604896896319043, 'random_strength': 0.5347528160420925, 'rsm': 0.7854550450693314, 'subsample': 0.961266582368124}                                                                         4,198.36\n",
       "                             {'bagging_temperature': 0.4445180658724861, 'border_count': 190, 'depth': 7, 'iterations': 400, 'l2_leaf_reg': 1.4914300989464184, 'learning_rate': 0.07687203280262682, 'random_strength': 0.5268176027190169, 'rsm': 0.7162442397711171, 'subsample': 0.8550555509411895}                                                                     4,205.20\n",
       "                             {'bagging_temperature': 0.1903620032353584, 'border_count': 213, 'depth': 11, 'iterations': 400, 'l2_leaf_reg': 2.656087215467826, 'learning_rate': 0.08204993919458796, 'random_strength': 0.5097677198813825, 'rsm': 0.9359530667642242, 'subsample': 0.7347554653405641}                                                                     4,206.99\n",
       "                             {'bagging_temperature': 0.35008608367833993, 'border_count': 205, 'depth': 8, 'iterations': 400, 'l2_leaf_reg': 1.7511570795132891, 'learning_rate': 0.1255908019146309, 'random_strength': 0.6954649809988362, 'rsm': 0.7199986861485148, 'subsample': 0.836223273440073}                                                                      4,212.68\n",
       "XGBRegressor       all       {'colsample_bylevel': 0.9609247761137176, 'colsample_bynode': 0.7863328365016674, 'colsample_bytree': 0.8876690709310571, 'learning_rate': 0.11819289235034487, 'max_depth': 54, 'min_child_weight': 8, 'n_estimators': 50, 'reg_alpha': 0.38742301219948494, 'reg_lambda': 0.526573852221262, 'subsample': 0.8339834873934041}                 4,217.98\n",
       "CatBoostRegressor  all       {'bagging_temperature': 0.601269030251965, 'border_count': 224, 'depth': 7, 'iterations': 400, 'l2_leaf_reg': 2.238817640519828, 'learning_rate': 0.06068515977355987, 'random_strength': 0.537237907661097, 'rsm': 0.5922615283628305, 'subsample': 0.9482771053644822}                                                                        4,225.40\n",
       "                             {'bagging_temperature': 0.23770476567849547, 'border_count': 220, 'depth': 6, 'iterations': 400, 'l2_leaf_reg': 2.898214992227135, 'learning_rate': 0.07040344203529529, 'random_strength': 0.6863867134490198, 'rsm': 0.950529845918144, 'subsample': 0.8720699004529597}                                                                      4,228.26\n",
       "                             {'bagging_temperature': 0.6873654303188547, 'border_count': 70, 'depth': 6, 'iterations': 400, 'l2_leaf_reg': 5.54358426522285, 'learning_rate': 0.1496580925176661, 'random_strength': 0.5341017057246484, 'rsm': 0.7438071246413223, 'subsample': 0.5353297895996306}                                                                         4,228.44\n",
       "                             {'bagging_temperature': 0.552615024955925, 'border_count': 174, 'depth': 11, 'iterations': 400, 'l2_leaf_reg': 1.0616486376921297, 'learning_rate': 0.06623500360537929, 'random_strength': 0.5136558974635115, 'rsm': 0.7451857394432099, 'subsample': 0.8216442163376059}                                                                     4,233.83\n",
       "                             {'bagging_temperature': 0.8515245270827694, 'border_count': 117, 'depth': 7, 'iterations': 400, 'l2_leaf_reg': 5.13669683802443, 'learning_rate': 0.13326898703506287, 'random_strength': 0.5307008953759953, 'rsm': 0.6229585372446268, 'subsample': 0.6847001004855716}                                                                       4,235.45\n",
       "                             {'bagging_temperature': 0.34643755015841704, 'border_count': 241, 'depth': 7, 'iterations': 400, 'l2_leaf_reg': 1.5970992857948663, 'learning_rate': 0.13633131333667767, 'random_strength': 0.5102025771867921, 'rsm': 0.9794238852109055, 'subsample': 0.8997196202619501}                                                                    4,243.39\n",
       "                             {'bagging_temperature': 0.09712727921669723, 'border_count': 245, 'depth': 6, 'iterations': 400, 'l2_leaf_reg': 3.371024806910995, 'learning_rate': 0.10359001020898226, 'random_strength': 0.8542495938159231, 'rsm': 0.967236626432866, 'subsample': 0.7652241649303932}                                                                      4,243.85\n",
       "                             {'bagging_temperature': 0.9491296950284716, 'border_count': 51, 'depth': 7, 'iterations': 400, 'l2_leaf_reg': 3.531095691354168, 'learning_rate': 0.1438118508408999, 'random_strength': 0.5679972461883841, 'rsm': 0.7347756099000318, 'subsample': 0.6162927221707303}                                                                        4,245.39\n",
       "                             {'bagging_temperature': 0.8183519272240459, 'border_count': 39, 'depth': 6, 'iterations': 400, 'l2_leaf_reg': 3.269406594064817, 'learning_rate': 0.11752424299326536, 'random_strength': 0.5688216015436791, 'rsm': 0.6635688179059619, 'subsample': 0.5699203261292394}                                                                       4,262.40\n",
       "                             {'bagging_temperature': 0.14495987538935318, 'border_count': 165, 'depth': 5, 'iterations': 400, 'l2_leaf_reg': 7.45302303232526, 'learning_rate': 0.10036985337344864, 'random_strength': 0.5334910623952445, 'rsm': 0.6937125795599692, 'subsample': 0.6596982122432891}                                                                      4,269.27\n",
       "                             {'bagging_temperature': 0.5403943361482112, 'border_count': 163, 'depth': 5, 'iterations': 400, 'l2_leaf_reg': 1.0261283604883051, 'learning_rate': 0.10830589724941378, 'random_strength': 0.551903731537343, 'rsm': 0.6630122177237948, 'subsample': 0.83801329420839}                                                                        4,272.22\n",
       "                             {'bagging_temperature': 0.361552347914072, 'border_count': 143, 'depth': 10, 'iterations': 400, 'l2_leaf_reg': 1.5471198188114355, 'learning_rate': 0.05272105506535537, 'random_strength': 0.7954165289336214, 'rsm': 0.5753053374528931, 'subsample': 0.5934638033216675}                                                                     4,276.15\n",
       "                             {'bagging_temperature': 0.6633939452626461, 'border_count': 207, 'depth': 9, 'iterations': 400, 'l2_leaf_reg': 2.4582635108687265, 'learning_rate': 0.055104375794269744, 'random_strength': 0.5986120954675913, 'rsm': 0.7875105234069814, 'subsample': 0.6464525963220937}                                                                    4,276.52\n",
       "                             {'bagging_temperature': 0.5473192910774827, 'border_count': 82, 'depth': 8, 'iterations': 400, 'l2_leaf_reg': 2.42394105949721, 'learning_rate': 0.08394831144089863, 'random_strength': 0.592822316679914, 'rsm': 0.6871417422123918, 'subsample': 0.809266076922887}                                                                          4,278.49\n",
       "                             {'bagging_temperature': 0.843368461006466, 'border_count': 145, 'depth': 5, 'iterations': 400, 'l2_leaf_reg': 3.0958129928608704, 'learning_rate': 0.10720023226587191, 'random_strength': 0.5742308872979992, 'rsm': 0.625474193262084, 'subsample': 0.8120707116994037}                                                                       4,282.59\n",
       "XGBRegressor       all       {'colsample_bylevel': 0.6683444872430335, 'colsample_bynode': 0.8361109577630386, 'colsample_bytree': 0.960743200750253, 'learning_rate': 0.14632203632811797, 'max_depth': 10, 'min_child_weight': 8, 'n_estimators': 50, 'reg_alpha': 0.2896033361151615, 'reg_lambda': 0.736739381358466, 'subsample': 0.9599772837557228}                   4,283.29\n",
       "CatBoostRegressor  all       {'bagging_temperature': 0.29914008528845193, 'border_count': 220, 'depth': 4, 'iterations': 400, 'l2_leaf_reg': 3.895199620989963, 'learning_rate': 0.18328721538428755, 'random_strength': 0.6595977940527216, 'rsm': 0.8529687030092103, 'subsample': 0.7641291907697847}                                                                     4,283.37\n",
       "                             {'bagging_temperature': 0.5094779564781688, 'border_count': 218, 'depth': 5, 'iterations': 400, 'l2_leaf_reg': 9.138259910456004, 'learning_rate': 0.11972183489836559, 'random_strength': 0.9632202360600494, 'rsm': 0.8547541407813223, 'subsample': 0.6808894467287606}                                                                      4,291.48\n",
       "XGBRegressor       all       {'colsample_bylevel': 0.5486124443108825, 'colsample_bynode': 0.9323011144673732, 'colsample_bytree': 0.9493950566126829, 'learning_rate': 0.12236487138565877, 'max_depth': 7, 'min_child_weight': 6, 'n_estimators': 50, 'reg_alpha': 0.2202901057744207, 'reg_lambda': 0.6127836378850446, 'subsample': 0.9730748789814107}                  4,292.27\n",
       "CatBoostRegressor  all       {'bagging_temperature': 0.9091598161727141, 'border_count': 107, 'depth': 7, 'iterations': 400, 'l2_leaf_reg': 4.251881098770964, 'learning_rate': 0.18379351215306186, 'random_strength': 0.5605936951436828, 'rsm': 0.6945407359620104, 'subsample': 0.6738067747224747}                                                                      4,297.90\n",
       "                             {'bagging_temperature': 0.7181424944123932, 'border_count': 167, 'depth': 8, 'iterations': 400, 'l2_leaf_reg': 1.2197607635721184, 'learning_rate': 0.057419489216745105, 'random_strength': 0.8266833263995207, 'rsm': 0.9986187631372931, 'subsample': 0.9748082018826287}                                                                    4,300.19\n",
       "                             {'bagging_temperature': 0.6654230234470565, 'border_count': 126, 'depth': 8, 'iterations': 400, 'l2_leaf_reg': 6.825949667797316, 'learning_rate': 0.05737467677823457, 'random_strength': 0.8792716626132497, 'rsm': 0.6682714820210558, 'subsample': 0.9964714687405478}                                                                      4,310.73\n",
       "XGBRegressor       all       {'colsample_bylevel': 0.6803310273887554, 'colsample_bynode': 0.8750940434993493, 'colsample_bytree': 0.9719216445767835, 'learning_rate': 0.12216300288238799, 'max_depth': 8, 'min_child_weight': 6, 'n_estimators': 50, 'reg_alpha': 0.03256969229957296, 'reg_lambda': 0.7002463107793908, 'subsample': 0.5580697390749917}                 4,316.57\n",
       "CatBoostRegressor  all       {'bagging_temperature': 0.9293409286989163, 'border_count': 46, 'depth': 6, 'iterations': 400, 'l2_leaf_reg': 4.843014970085866, 'learning_rate': 0.0954024110133693, 'random_strength': 0.5863815720340775, 'rsm': 0.6834887845324061, 'subsample': 0.6341958902994964}                                                                        4,326.29\n",
       "                             {'bagging_temperature': 0.9560785425130263, 'border_count': 118, 'depth': 5, 'iterations': 400, 'l2_leaf_reg': 2.348654831122034, 'learning_rate': 0.1400744457886111, 'random_strength': 0.6347239405998765, 'rsm': 0.6212915324914189, 'subsample': 0.6963148151351467}                                                                       4,326.46\n",
       "XGBRegressor       all       {'colsample_bylevel': 0.5202907587529446, 'colsample_bynode': 0.9318912994708307, 'colsample_bytree': 0.9451625234815976, 'learning_rate': 0.1454122064014829, 'max_depth': 10, 'min_child_weight': 7, 'n_estimators': 50, 'reg_alpha': 0.2729115645704119, 'reg_lambda': 0.7482585458538124, 'subsample': 0.9546058082181524}                  4,328.94\n",
       "                             {'colsample_bylevel': 0.5122198300492296, 'colsample_bynode': 0.9129309164253109, 'colsample_bytree': 0.9690148895130191, 'learning_rate': 0.17571682177645734, 'max_depth': 9, 'min_child_weight': 7, 'n_estimators': 50, 'reg_alpha': 0.10072939969953176, 'reg_lambda': 0.6769057606063562, 'subsample': 0.8354683057244486}                 4,330.53\n",
       "CatBoostRegressor  all       {'bagging_temperature': 0.8742105573472928, 'border_count': 32, 'depth': 7, 'iterations': 400, 'l2_leaf_reg': 3.364562821513296, 'learning_rate': 0.10020004347871282, 'random_strength': 0.6145679640357017, 'rsm': 0.6999247228500491, 'subsample': 0.5124388520120413}                                                                       4,335.46\n",
       "XGBRegressor       all       {'colsample_bylevel': 0.9241276994486095, 'colsample_bynode': 0.9855176720907789, 'colsample_bytree': 0.8840013997584609, 'learning_rate': 0.1350524921100537, 'max_depth': 55, 'min_child_weight': 8, 'n_estimators': 50, 'reg_alpha': 0.6007868267275196, 'reg_lambda': 0.5050508167309179, 'subsample': 0.8394704733237911}                  4,341.58\n",
       "CatBoostRegressor  all       {'bagging_temperature': 0.21091476781038876, 'border_count': 211, 'depth': 11, 'iterations': 400, 'l2_leaf_reg': 1.0336459655213268, 'learning_rate': 0.11235769306130189, 'random_strength': 0.5265571602501551, 'rsm': 0.935987481103771, 'subsample': 0.7566973376838494}                                                                    4,342.59\n",
       "XGBRegressor       all       {'colsample_bylevel': 0.6259345763403017, 'colsample_bynode': 0.8189371483309421, 'colsample_bytree': 0.9264116861475744, 'learning_rate': 0.16308506638099496, 'max_depth': 23, 'min_child_weight': 8, 'n_estimators': 50, 'reg_alpha': 0.31183498915161667, 'reg_lambda': 0.6490923468349278, 'subsample': 0.9779507495533482}                4,347.22\n",
       "CatBoostRegressor  all       {'bagging_temperature': 0.7491730724278558, 'border_count': 148, 'depth': 8, 'iterations': 400, 'l2_leaf_reg': 2.876439608090405, 'learning_rate': 0.1109128462968448, 'random_strength': 0.5518062335333223, 'rsm': 0.710349199529554, 'subsample': 0.658601275363814}                                                                         4,347.27\n",
       "                             {'bagging_temperature': 0.4137486440696695, 'border_count': 217, 'depth': 8, 'iterations': 200, 'l2_leaf_reg': 8.588988173088541, 'learning_rate': 0.10189061566842986, 'random_strength': 0.8605760449680564, 'rsm': 0.6139837000901375, 'subsample': 0.9135893250456774}                                                                      4,349.92\n",
       "                             {'bagging_temperature': 0.6200212401796352, 'border_count': 230, 'depth': 6, 'iterations': 400, 'l2_leaf_reg': 2.4897682518153594, 'learning_rate': 0.04628372252667071, 'random_strength': 0.5675736402821996, 'rsm': 0.7488579510032736, 'subsample': 0.9034306039822114}                                                                     4,354.23\n",
       "                             {'bagging_temperature': 0.8444758908068929, 'border_count': 124, 'depth': 5, 'iterations': 400, 'l2_leaf_reg': 5.088392914733167, 'learning_rate': 0.15102009317910833, 'random_strength': 0.5523762338184204, 'rsm': 0.7195557916795937, 'subsample': 0.5737204338472845}                                                                      4,362.10\n",
       "XGBRegressor       all       {'colsample_bylevel': 0.9258231364463715, 'colsample_bynode': 0.8271289024396867, 'colsample_bytree': 0.903494605091799, 'learning_rate': 0.1351102729568901, 'max_depth': 51, 'min_child_weight': 7, 'n_estimators': 50, 'reg_alpha': 0.5252450244616196, 'reg_lambda': 0.721451203573872, 'subsample': 0.8334750336935108}                    4,362.59\n",
       "CatBoostRegressor  all       {'bagging_temperature': 0.7440023920906942, 'border_count': 133, 'depth': 8, 'iterations': 400, 'l2_leaf_reg': 4.451582213157957, 'learning_rate': 0.039566600273826164, 'random_strength': 0.7081349278408346, 'rsm': 0.8328894633120707, 'subsample': 0.7115943862182738}                                                                     4,363.33\n",
       "                             {'bagging_temperature': 0.8809462665638481, 'border_count': 114, 'depth': 7, 'iterations': 400, 'l2_leaf_reg': 4.890563319987373, 'learning_rate': 0.17896344398271807, 'random_strength': 0.5167347619908556, 'rsm': 0.635276043119409, 'subsample': 0.6828378787827092}                                                                       4,365.24\n",
       "                             {'bagging_temperature': 0.7949309516319196, 'border_count': 135, 'depth': 6, 'iterations': 400, 'l2_leaf_reg': 7.473100294398121, 'learning_rate': 0.14878135640119924, 'random_strength': 0.5982187171073936, 'rsm': 0.7208134149210353, 'subsample': 0.8362169724225498}                                                                      4,368.53\n",
       "XGBRegressor       all       {'colsample_bylevel': 0.9928234635121003, 'colsample_bynode': 0.8749529970198648, 'colsample_bytree': 0.948259567583566, 'learning_rate': 0.1302679437275315, 'max_depth': 49, 'min_child_weight': 8, 'n_estimators': 50, 'reg_alpha': 0.5692060108725239, 'reg_lambda': 0.42745022959101736, 'subsample': 0.8429697494047363}                  4,369.78\n",
       "                             {'colsample_bylevel': 0.7684417382056316, 'colsample_bynode': 0.7941974432122288, 'colsample_bytree': 0.8870717164540509, 'learning_rate': 0.1491156031594696, 'max_depth': 9, 'min_child_weight': 7, 'n_estimators': 50, 'reg_alpha': 0.12551640083498494, 'reg_lambda': 0.2816983747919038, 'subsample': 0.9245170990818882}                  4,370.76\n",
       "CatBoostRegressor  all       {'bagging_temperature': 0.9455837134431474, 'border_count': 58, 'depth': 7, 'iterations': 400, 'l2_leaf_reg': 3.7440685582735913, 'learning_rate': 0.144500003427917, 'random_strength': 0.5751051843970225, 'rsm': 0.7356135812442834, 'subsample': 0.6162604553741474}                                                                        4,372.51\n",
       "                             {'bagging_temperature': 0.4093528153210206, 'border_count': 243, 'depth': 9, 'iterations': 400, 'l2_leaf_reg': 5.973098707730826, 'learning_rate': 0.12926305933234475, 'random_strength': 0.7272588320359548, 'rsm': 0.6487455153975115, 'subsample': 0.8747709658799941}                                                                      4,374.92\n",
       "                             {'bagging_temperature': 0.7185963778525041, 'border_count': 165, 'depth': 9, 'iterations': 400, 'l2_leaf_reg': 1.2936121147203379, 'learning_rate': 0.034227036600116806, 'random_strength': 0.8243299378314828, 'rsm': 0.9853768689788072, 'subsample': 0.8910359628160868}                                                                    4,375.18\n",
       "                             {'bagging_temperature': 0.28687793061090217, 'border_count': 150, 'depth': 8, 'iterations': 400, 'l2_leaf_reg': 8.301649474323275, 'learning_rate': 0.12361148759391712, 'random_strength': 0.7453494326264416, 'rsm': 0.5675962565009556, 'subsample': 0.749892247534221}                                                                      4,376.17\n",
       "XGBRegressor       all       {'colsample_bylevel': 0.5636581995294111, 'colsample_bynode': 0.7134843382055496, 'colsample_bytree': 0.9640923399792162, 'learning_rate': 0.14499927407726115, 'max_depth': 10, 'min_child_weight': 8, 'n_estimators': 50, 'reg_alpha': 0.28308368176549803, 'reg_lambda': 0.7354888695739312, 'subsample': 0.9899948830480401}                4,378.01\n",
       "                             {'colsample_bylevel': 0.6197326502940134, 'colsample_bynode': 0.8348219508446794, 'colsample_bytree': 0.9093475998861549, 'learning_rate': 0.13748216818695821, 'max_depth': 16, 'min_child_weight': 8, 'n_estimators': 50, 'reg_alpha': 0.14563576656531219, 'reg_lambda': 0.5290430337518313, 'subsample': 0.8995238541616918}                4,382.09\n",
       "CatBoostRegressor  all       {'bagging_temperature': 0.5884092507912495, 'border_count': 155, 'depth': 8, 'iterations': 200, 'l2_leaf_reg': 6.212062809425278, 'learning_rate': 0.1052269039370417, 'random_strength': 0.517146338803475, 'rsm': 0.6401315762812891, 'subsample': 0.6025501772587497}                                                                        4,382.51\n",
       "XGBRegressor       all       {'colsample_bylevel': 0.6574070044771424, 'colsample_bynode': 0.9555877232419039, 'colsample_bytree': 0.9725797558987523, 'learning_rate': 0.10842564704787556, 'max_depth': 6, 'min_child_weight': 4, 'n_estimators': 50, 'reg_alpha': 0.7867741976307945, 'reg_lambda': 0.7790474018610981, 'subsample': 0.9545515904922842}                  4,384.38\n",
       "                             {'colsample_bylevel': 0.5255966105078528, 'colsample_bynode': 0.9788338098322574, 'colsample_bytree': 0.8985361043840308, 'learning_rate': 0.14655321723547418, 'max_depth': 15, 'min_child_weight': 6, 'n_estimators': 50, 'reg_alpha': 0.2429991066210141, 'reg_lambda': 0.999992395104128, 'subsample': 0.9112447684604279}                  4,388.41\n",
       "                             {'colsample_bylevel': 0.9127113158365359, 'colsample_bynode': 0.8929922932090198, 'colsample_bytree': 0.9748071856035764, 'learning_rate': 0.13389122705657047, 'max_depth': 56, 'min_child_weight': 8, 'n_estimators': 50, 'reg_alpha': 0.6286403687135682, 'reg_lambda': 0.4650722023225363, 'subsample': 0.8861060148421638}                 4,391.92\n",
       "                             {'colsample_bylevel': 0.9947454036595621, 'colsample_bynode': 0.9498190001695587, 'colsample_bytree': 0.9373090653954942, 'learning_rate': 0.11990978258341173, 'max_depth': 35, 'min_child_weight': 8, 'n_estimators': 50, 'reg_alpha': 0.7839572190036956, 'reg_lambda': 0.46949420700749955, 'subsample': 0.8993829591023207}                4,392.48\n",
       "                             {'colsample_bylevel': 0.7998200339225406, 'colsample_bynode': 0.9161436784111103, 'colsample_bytree': 0.9497287132087407, 'learning_rate': 0.12308986785015702, 'max_depth': 37, 'min_child_weight': 8, 'n_estimators': 50, 'reg_alpha': 0.5738570546376099, 'reg_lambda': 0.45355985582276087, 'subsample': 0.8697940495289739}                4,393.72\n",
       "                             {'colsample_bylevel': 0.6034106453313525, 'colsample_bynode': 0.7562940269231432, 'colsample_bytree': 0.8226986103008347, 'learning_rate': 0.15669034688677336, 'max_depth': 20, 'min_child_weight': 8, 'n_estimators': 50, 'reg_alpha': 0.3727740783901976, 'reg_lambda': 0.8156078387882368, 'subsample': 0.9470480264949558}                 4,396.95\n",
       "                             {'colsample_bylevel': 0.7319091045802322, 'colsample_bynode': 0.9861738409166022, 'colsample_bytree': 0.7146168668612963, 'learning_rate': 0.10961661901831307, 'max_depth': 17, 'min_child_weight': 8, 'n_estimators': 50, 'reg_alpha': 0.45052739633294214, 'reg_lambda': 0.6339898052862112, 'subsample': 0.7991880808884378}                4,398.18\n",
       "CatBoostRegressor  all       {'bagging_temperature': 0.4259326897427069, 'border_count': 145, 'depth': 8, 'iterations': 400, 'l2_leaf_reg': 8.413312527656894, 'learning_rate': 0.12889547739891566, 'random_strength': 0.6671800283378831, 'rsm': 0.5613378945872527, 'subsample': 0.7529008896131079}                                                                      4,403.05\n",
       "                             {'bagging_temperature': 0.9388520731364012, 'border_count': 157, 'depth': 11, 'iterations': 200, 'l2_leaf_reg': 2.336865489187857, 'learning_rate': 0.07364741931069865, 'random_strength': 0.5003540692200907, 'rsm': 0.6800235469992995, 'subsample': 0.9589541891155626}                                                                     4,407.33\n",
       "                             {'bagging_temperature': 0.3304591501350148, 'border_count': 223, 'depth': 10, 'iterations': 200, 'l2_leaf_reg': 7.744646757926502, 'learning_rate': 0.09594807661323317, 'random_strength': 0.6480958224538933, 'rsm': 0.6025907702920625, 'subsample': 0.6073861754761364}                                                                     4,407.47\n",
       "                             {'bagging_temperature': 0.7640542884984196, 'border_count': 135, 'depth': 5, 'iterations': 400, 'l2_leaf_reg': 9.431624707183397, 'learning_rate': 0.1353175788865485, 'random_strength': 0.6162704943969469, 'rsm': 0.5144571813635443, 'subsample': 0.7305158661645739}                                                                       4,409.01\n",
       "XGBRegressor       all       {'colsample_bylevel': 0.8727024198964765, 'colsample_bynode': 0.9236642733579156, 'colsample_bytree': 0.9871992778176124, 'learning_rate': 0.12003617881172662, 'max_depth': 14, 'min_child_weight': 6, 'n_estimators': 50, 'reg_alpha': 0.3382625100068558, 'reg_lambda': 0.857364920498604, 'subsample': 0.8756573853831324}                  4,409.64\n",
       "CatBoostRegressor  all       {'bagging_temperature': 0.76808098996706, 'border_count': 175, 'depth': 10, 'iterations': 400, 'l2_leaf_reg': 6.023372917117516, 'learning_rate': 0.10389628029929854, 'random_strength': 0.6497436875317781, 'rsm': 0.7523722458191107, 'subsample': 0.859389338359256}                                                                        4,409.86\n",
       "                             {'bagging_temperature': 0.5715729147521789, 'border_count': 150, 'depth': 8, 'iterations': 400, 'l2_leaf_reg': 1.3303032038732363, 'learning_rate': 0.02765868071408499, 'random_strength': 0.6385701062446617, 'rsm': 0.9059930851266033, 'subsample': 0.786555537780659}                                                                      4,412.10\n",
       "                             {'bagging_temperature': 0.25318491637320817, 'border_count': 254, 'depth': 8, 'iterations': 400, 'l2_leaf_reg': 9.93314227241513, 'learning_rate': 0.12280636334079525, 'random_strength': 0.9056050864315439, 'rsm': 0.5756362934428858, 'subsample': 0.9800192338225815}                                                                      4,412.44\n",
       "XGBRegressor       all       {'colsample_bylevel': 0.9465218088058239, 'colsample_bynode': 0.9524448761112498, 'colsample_bytree': 0.9425988809468716, 'learning_rate': 0.15056301988075083, 'max_depth': 62, 'min_child_weight': 7, 'n_estimators': 50, 'reg_alpha': 0.647236538719298, 'reg_lambda': 0.3671294396773527, 'subsample': 0.8674011561796414}                  4,413.94\n",
       "CatBoostRegressor  all       {'bagging_temperature': 0.9112219897113112, 'border_count': 193, 'depth': 9, 'iterations': 200, 'l2_leaf_reg': 2.963367560148523, 'learning_rate': 0.13406139058122893, 'random_strength': 0.6262093128379489, 'rsm': 0.8422964283905259, 'subsample': 0.6699959846405286}                                                                      4,419.73\n",
       "XGBRegressor       lag       {'colsample_bylevel': 0.9623321652234075, 'colsample_bynode': 0.9705426009475423, 'colsample_bytree': 0.9874940207011587, 'learning_rate': 0.15163182797845637, 'max_depth': 50, 'min_child_weight': 8, 'n_estimators': 50, 'reg_alpha': 0.7167176270653927, 'reg_lambda': 0.9238662320465778, 'subsample': 0.5483741794506319}                 4,423.07\n",
       "                   all       {'colsample_bylevel': 0.7565484009853138, 'colsample_bynode': 0.8005070029073212, 'colsample_bytree': 0.9486312214979512, 'learning_rate': 0.13077809999611126, 'max_depth': 9, 'min_child_weight': 8, 'n_estimators': 50, 'reg_alpha': 0.27360305196327367, 'reg_lambda': 0.5624821431115734, 'subsample': 0.8521609955558228}                 4,423.24\n",
       "CatBoostRegressor  all       {'bagging_temperature': 0.7525215554164617, 'border_count': 124, 'depth': 5, 'iterations': 400, 'l2_leaf_reg': 3.976940457979107, 'learning_rate': 0.18078760771945146, 'random_strength': 0.7021765090837587, 'rsm': 0.5796235421667814, 'subsample': 0.6458845787532409}                                                                      4,424.80\n",
       "XGBRegressor       all       {'colsample_bylevel': 0.8791597744337126, 'colsample_bynode': 0.8078589567343629, 'colsample_bytree': 0.8481595801345492, 'learning_rate': 0.13480278870907866, 'max_depth': 14, 'min_child_weight': 7, 'n_estimators': 50, 'reg_alpha': 0.9553405851937387, 'reg_lambda': 0.9723164591843035, 'subsample': 0.8456348684812438}                 4,425.13\n",
       "                             {'colsample_bylevel': 0.574632947889349, 'colsample_bynode': 0.7790292244799176, 'colsample_bytree': 0.8055312072587032, 'learning_rate': 0.1150200969728532, 'max_depth': 7, 'min_child_weight': 7, 'n_estimators': 50, 'reg_alpha': 0.2601296808159274, 'reg_lambda': 0.7713344532897488, 'subsample': 0.9265688353121738}                    4,425.35\n",
       "CatBoostRegressor  all       {'bagging_temperature': 0.8118905227102139, 'border_count': 116, 'depth': 6, 'iterations': 200, 'l2_leaf_reg': 3.012984249720094, 'learning_rate': 0.1113924406104398, 'random_strength': 0.7765919273605049, 'rsm': 0.7024690726514302, 'subsample': 0.9316457328908987}                                                                       4,425.86\n",
       "XGBRegressor       all       {'colsample_bylevel': 0.5223838596552876, 'colsample_bynode': 0.9805264933267952, 'colsample_bytree': 0.8956119608208989, 'learning_rate': 0.13060361982521426, 'max_depth': 15, 'min_child_weight': 6, 'n_estimators': 50, 'reg_alpha': 0.2138930944109036, 'reg_lambda': 0.9980606866694368, 'subsample': 0.9144176179965953}                 4,426.01\n",
       "                             {'colsample_bylevel': 0.5730699103891489, 'colsample_bynode': 0.9218713124274098, 'colsample_bytree': 0.9992955751047807, 'learning_rate': 0.10308136405060134, 'max_depth': 27, 'min_child_weight': 6, 'n_estimators': 50, 'reg_alpha': 0.19280150929557563, 'reg_lambda': 0.41849754166910874, 'subsample': 0.9996905335832271}               4,426.03\n",
       "CatBoostRegressor  all       {'bagging_temperature': 0.7049954052334647, 'border_count': 73, 'depth': 4, 'iterations': 400, 'l2_leaf_reg': 5.28141143475342, 'learning_rate': 0.13268946403250037, 'random_strength': 0.5573269451134141, 'rsm': 0.8423494350950747, 'subsample': 0.7725020437597998}                                                                        4,426.79\n",
       "XGBRegressor       all       {'colsample_bylevel': 0.639085354215315, 'colsample_bynode': 0.9428996229071374, 'colsample_bytree': 0.9458365462736998, 'learning_rate': 0.13084570841151863, 'max_depth': 11, 'min_child_weight': 6, 'n_estimators': 50, 'reg_alpha': 0.42445398571841464, 'reg_lambda': 0.49626615210232583, 'subsample': 0.9640664921077161}                4,428.51\n",
       "CatBoostRegressor  all       {'bagging_temperature': 0.9302567092351568, 'border_count': 131, 'depth': 7, 'iterations': 200, 'l2_leaf_reg': 5.758952864503309, 'learning_rate': 0.1668989222311597, 'random_strength': 0.5014919412575058, 'rsm': 0.6485833690760597, 'subsample': 0.6058858602937112}                                                                       4,428.92\n",
       "                             {'bagging_temperature': 0.6964327355139446, 'border_count': 100, 'depth': 7, 'iterations': 400, 'l2_leaf_reg': 5.222568685736972, 'learning_rate': 0.18616158177164438, 'random_strength': 0.8612031007690137, 'rsm': 0.9993366571522837, 'subsample': 0.666787149749138}                                                                       4,428.96\n",
       "                             {'bagging_temperature': 0.9969686559764297, 'border_count': 87, 'depth': 5, 'iterations': 400, 'l2_leaf_reg': 2.632248329726216, 'learning_rate': 0.08928386880264622, 'random_strength': 0.6200498058175743, 'rsm': 0.8736078568028898, 'subsample': 0.7246351588619624}                                                                       4,429.60\n",
       "                             {'bagging_temperature': 0.25731798690189356, 'border_count': 203, 'depth': 9, 'iterations': 400, 'l2_leaf_reg': 8.781039275323367, 'learning_rate': 0.11855178738928283, 'random_strength': 0.7317103658997768, 'rsm': 0.5020033302082452, 'subsample': 0.9894981510709675}                                                                     4,431.54\n",
       "                             {'bagging_temperature': 0.27864123201129604, 'border_count': 137, 'depth': 9, 'iterations': 400, 'l2_leaf_reg': 2.6735785066592337, 'learning_rate': 0.18970045445214873, 'random_strength': 0.569453457720437, 'rsm': 0.9058747448921587, 'subsample': 0.8264003335122958}                                                                     4,439.99\n",
       "                             {'bagging_temperature': 0.7908034913883139, 'border_count': 62, 'depth': 4, 'iterations': 400, 'l2_leaf_reg': 4.594501837882397, 'learning_rate': 0.19504280119599696, 'random_strength': 0.5245532166802513, 'rsm': 0.6449784848102733, 'subsample': 0.622847745534818}                                                                        4,440.20\n",
       "XGBRegressor       all       {'colsample_bylevel': 0.5813688608735578, 'colsample_bynode': 0.9339766583479522, 'colsample_bytree': 0.832657365553711, 'learning_rate': 0.09450009010468008, 'max_depth': 59, 'min_child_weight': 5, 'n_estimators': 50, 'reg_alpha': 0.754774473465714, 'reg_lambda': 0.2329726320997437, 'subsample': 0.906177594024963}                    4,440.97\n",
       "                             {'colsample_bylevel': 0.7091859331455033, 'colsample_bynode': 0.8751453357692149, 'colsample_bytree': 0.8447586369860619, 'learning_rate': 0.11790689302058865, 'max_depth': 7, 'min_child_weight': 2, 'n_estimators': 50, 'reg_alpha': 0.29424170405702343, 'reg_lambda': 0.7630742358784035, 'subsample': 0.5885150326675325}                 4,443.28\n",
       "                             {'colsample_bylevel': 0.9608127491553922, 'colsample_bynode': 0.6949979034605694, 'colsample_bytree': 0.8870975425936546, 'learning_rate': 0.1181077187956964, 'max_depth': 53, 'min_child_weight': 8, 'n_estimators': 50, 'reg_alpha': 0.2379165430869763, 'reg_lambda': 0.516822687693484, 'subsample': 0.7778141342753879}                   4,444.75\n",
       "                             {'colsample_bylevel': 0.8634284397509211, 'colsample_bynode': 0.8841633496310113, 'colsample_bytree': 0.925473757358184, 'learning_rate': 0.11129313969050138, 'max_depth': 55, 'min_child_weight': 7, 'n_estimators': 50, 'reg_alpha': 0.5898841822160324, 'reg_lambda': 0.3957262619671472, 'subsample': 0.6473858822624189}                  4,444.76\n",
       "CatBoostRegressor  all       {'bagging_temperature': 0.691871015251358, 'border_count': 158, 'depth': 10, 'iterations': 400, 'l2_leaf_reg': 4.1273062816623955, 'learning_rate': 0.12969383053643366, 'random_strength': 0.7865823296031844, 'rsm': 0.6609431083684939, 'subsample': 0.5337986356298114}                                                                     4,445.24\n",
       "XGBRegressor       all       {'colsample_bylevel': 0.845844013850526, 'colsample_bynode': 0.7584236213850729, 'colsample_bytree': 0.622585659299912, 'learning_rate': 0.11527402430853284, 'max_depth': 14, 'min_child_weight': 7, 'n_estimators': 50, 'reg_alpha': 0.7276873207214516, 'reg_lambda': 0.43454713538994294, 'subsample': 0.7510590911477288}                  4,446.40\n",
       "                             {'colsample_bylevel': 0.881959880071002, 'colsample_bynode': 0.8973785269030674, 'colsample_bytree': 0.9716752183667572, 'learning_rate': 0.12647429510964656, 'max_depth': 50, 'min_child_weight': 8, 'n_estimators': 50, 'reg_alpha': 0.5056490376397188, 'reg_lambda': 0.6240305347339654, 'subsample': 0.8267522800085143}                  4,446.72\n",
       "                             {'colsample_bylevel': 0.5569029393316521, 'colsample_bynode': 0.6495252705421942, 'colsample_bytree': 0.9953513320905887, 'learning_rate': 0.1403206931663883, 'max_depth': 11, 'min_child_weight': 6, 'n_estimators': 50, 'reg_alpha': 0.11175958742023874, 'reg_lambda': 0.606780389069226, 'subsample': 0.974306565681567}                   4,447.48\n",
       "Name: mae, dtype: float64"
      ]
     },
     "execution_count": 43,
     "metadata": {},
     "output_type": "execute_result"
    }
   ],
   "source": [
    "results_group_all_folds.head(100)"
   ]
  },
  {
   "cell_type": "markdown",
   "metadata": {},
   "source": [
    "In the next notebook, we will apply the best hyperparameter configurations and the most effective feature set identified in these experiments to train the final production model."
   ]
  }
 ],
 "metadata": {
  "kernelspec": {
   "display_name": ".venv",
   "language": "python",
   "name": "python3"
  },
  "language_info": {
   "codemirror_mode": {
    "name": "ipython",
    "version": 3
   },
   "file_extension": ".py",
   "mimetype": "text/x-python",
   "name": "python",
   "nbconvert_exporter": "python",
   "pygments_lexer": "ipython3",
   "version": "3.10.5"
  }
 },
 "nbformat": 4,
 "nbformat_minor": 2
}
