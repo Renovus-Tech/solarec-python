{
 "cells": [
  {
   "cell_type": "markdown",
   "metadata": {},
   "source": [
    "# Introduction\n",
    "This Jupyter notebook outlines the data preprocessing workflow for leveraging machine learning (ML) to automatically extract key information from solar plant installation reports. The target data includes location, installation date, and total generation capacity (in MW).\n",
    "\n",
    "- Data Source:\n",
    "\n",
    "Synthetic Reports: Given the potential scarcity of real-world installation reports, this notebook utilizes Large Language Models (LLMs) to generate synthetic reports. These reports are specifically crafted to mimic the structure and content of real reports, ensuring the extracted data aligns with the desired format.\n",
    "Named Entity Recognition (NER):\n",
    "\n",
    "- The core task of this notebook is Named Entity Recognition (NER). NER focuses on identifying and classifying specific entities within text data. In this case, we aim to extract locations (using gazetteer-based methods or pre-trained location recognition models), dates (utilizing regular expressions or pre-trained date recognition models), and capacity values (focusing on numerical patterns with unit recognition). Preprocessing steps will involve:\n",
    "\n",
    "   - Sentence Segmentation: Splitting the report text into individual sentences enhances the performance of some NER models by providing better contextual boundaries for entity recognition.\n",
    "   - Data Labeling: Training an NER model requires manually annotating entities within a subset of the synthetic reports. This involves tagging relevant words or phrases with their corresponding categories (e.g., \"LOCATION\", \"DATE\", \"CAPACITY\").\n",
    "Leveraging Modern NLP Models:\n",
    "\n",
    "- Preprocessing considerations:\n",
    "Compared to traditional NLP pipelines, the employed models in this notebook benefit from recent advancements in contextual language understanding. This allows us to potentially bypass certain preprocessing steps typically required for older models. Here's a breakdown of these considerations:\n",
    "\n",
    "- Stop Word Removal: Modern deep learning models can inherently understand the importance of words within their context, potentially rendering stop word removal unnecessary.\n",
    "- Tokenization: The process of splitting text into individual units (words, punctuation) is often integrated within deep learning models, eliminating the need for a separate tokenization step in our workflow.\n",
    "- Stemming/Lemmatization: These techniques aim to reduce words to their base form. However, with powerful contextual models, understanding and maintaining the specific word form (e.g., \"generating\" vs. \"generate\") may be beneficial."
   ]
  },
  {
   "cell_type": "markdown",
   "metadata": {},
   "source": [
    "## Import dependencies"
   ]
  },
  {
   "cell_type": "code",
   "execution_count": 41,
   "metadata": {},
   "outputs": [],
   "source": [
    "import pandas as pd\n",
    "import os\n",
    "import spacy\n",
    "from spacy.pipeline import Sentencizer\n",
    "from spacy.tokens import DocBin\n",
    "from spacy.training import Corpus\n",
    "import random\n",
    "import re\n",
    "from spacy import displacy\n",
    "\n",
    "pd.set_option('display.max_columns', 200)\n",
    "pd.set_option('display.max_rows', 100)\n",
    "pd.set_option('display.expand_frame_repr', True)"
   ]
  },
  {
   "cell_type": "markdown",
   "metadata": {},
   "source": [
    "## Data loading"
   ]
  },
  {
   "cell_type": "markdown",
   "metadata": {},
   "source": [
    "### Load the report texts"
   ]
  },
  {
   "cell_type": "code",
   "execution_count": 42,
   "metadata": {},
   "outputs": [],
   "source": [
    "DATA_PATH = os.path.join('..', '..', 'data', 'reports')"
   ]
  },
  {
   "cell_type": "markdown",
   "metadata": {},
   "source": [
    "### Explore the raw data "
   ]
  },
  {
   "cell_type": "code",
   "execution_count": 43,
   "metadata": {},
   "outputs": [
    {
     "name": "stdout",
     "output_type": "stream",
     "text": [
      "Number of texts: 10\n",
      "Example text: La planta contará con una capacidad de 80 kw para satisfacer la demanda energética.\n",
      "Con una capacidad de 130 kilovatios, la planta será una fuente confiable de energía renovable.\n",
      "Se espera que la planta genere 85 kw de electricidad al día.\n",
      "La capacidad instalada de la planta será de 110 kw.\n",
      "La planta estará diseñada para generar 75 kilovatios de energía solar.\n",
      "La planta tendrá una capacidad de 95 kw para alimentar la red eléctrica.\n",
      "La capacidad de generación de 140 kw asegurará un suministro sostenible.\n",
      "La planta será capaz de generar 70 kw de electricidad limpia y renovable.\n",
      "Con una capacidad de 105 kw, la planta será un elemento crucial en el panorama energético.\n",
      "Se estima que la planta genere 125 kilovatios durante su vida útil.\n",
      "La planta contará con una capacidad de 115 kw, destacándose en el sector energético.\n",
      "Con una producción de 90 kilovatios, la planta será una importante fuente de energía renovable.\n",
      "Se espera que la planta genere 65 kw de electricidad diariamente.\n",
      "La capacidad instalada de la planta será de 150 kw, marcando un hito en su industria.\n",
      "La planta estará diseñada para generar 100 kilovatios de energía solar de forma eficiente.\n",
      "La planta tendrá una capacidad de 55 kw, satisfaciendo las necesidades energéticas locales.\n",
      "La capacidad de generación de 120 kw asegurará un suministro estable y sostenible.\n",
      "La planta será capaz de producir 135 kw de electricidad limpia y renovable.\n",
      "Con una capacidad de 145 kw, la planta se destacará como un importante activo energético.\n",
      "Se estima que la planta genere 80 kilovatios al día, impulsando la economía local.\n",
      "La planta contará con una capacidad de 70 kw, siendo un paso adelante en la industria energética.\n",
      "Con una capacidad de 180 kilovatios, la planta será una fuente clave de energía renovable.\n",
      "Se espera que la planta genere 55 kw de electricidad diariamente para la comunidad.\n",
      "La capacidad instalada de la planta será de 200 kw, marcando un nuevo estándar.\n",
      "La planta estará diseñada para generar 120 kilovatios de energía solar de manera eficiente.\n",
      "La planta tendrá una capacidad de 85 kw, satisfaciendo la demanda energética local.\n",
      "La capacidad de generación de 130 kw asegurará un suministro confiable.\n",
      "La planta será capaz de producir 145 kw de electricidad limpia y renovable.\n",
      "Con una capacidad de 110 kw, la planta será un punto focal en la matriz energética.\n",
      "Se estima que la planta genere 95 kilovatios al día, beneficiando a la región.\n",
      "La planta contará con una capacidad de 75 kw, contribuyendo significativamente a la energía sostenible.\n",
      "Con una producción de 140 kilovatios, la planta será una pieza clave en el panorama energético.\n",
      "Se espera que la planta genere 60 kw de electricidad diariamente para las comunidades circundantes.\n",
      "La capacidad instalada de la planta será de 190 kw, demostrando su escala y alcance.\n",
      "La planta estará diseñada para generar 130 kilovatios de energía solar de manera efectiva.\n",
      "La planta tendrá una capacidad de 95 kw, abasteciendo las necesidades energéticas locales de forma eficiente.\n",
      "La capacidad de generación de 150 kw asegurará un suministro estable y duradero.\n",
      "La planta será capaz de producir 170 kw de electricidad limpia y renovable.\n",
      "Con una capacidad de 115 kw, la planta será un líder en la transición hacia energías renovables.\n",
      "Se estima que la planta genere 100 kilovatios al día, mejorando la seguridad energética regional.\n",
      "La planta contará con una potencia de 100 kW, siendo un proyecto de tamaño medio.\n",
      "\n",
      "Con una capacidad de 50 kilovatios, la planta será un importante contribuyente.\n",
      "\n",
      "Se espera que la planta genere 75 kW de electricidad al día, satisfaciendo las necesidades locales.\n",
      "\n",
      "La capacidad instalada de la planta será de 120 kW, marcando un hito en la región.\n",
      "\n",
      "La planta estará diseñada para generar 90 kilovatios de energía solar de forma eficiente.\n",
      "\n",
      "La planta tendrá una capacidad de 80 kW para alimentar la red eléctrica.\n",
      "\n",
      "La capacidad de generación de 110 kW asegurará un suministro estable y confiable.\n",
      "\n",
      "La planta será capaz de producir 70 kW de electricidad limpia y renovable.\n",
      "\n",
      "Con una capacidad de 130 kW, la planta será un componente crucial en la red eléctrica.\n",
      "\n",
      "Se estima que la planta genere 85 kilovatios al día, beneficiando a la comunidad local.\n",
      "\n",
      "La planta contará con una capacidad de 60 kW, siendo un proyecto de escala moderada.\n",
      "\n",
      "Con una producción de 150 kilovatios, la planta será una fuente confiable de energía renovable.\n",
      "\n",
      "Se espera que la planta genere 45 kW de electricidad diariamente, abasteciendo las necesidades energéticas locales.\n",
      "\n",
      "La capacidad instalada de la planta será de 200 kW, demostrando su compromiso con la sostenibilidad.\n",
      "\n",
      "La planta estará diseñada para generar 100 kilovatios de energía solar de manera eficaz.\n",
      "\n",
      "La planta tendrá una capacidad de 55 kW para satisfacer la demanda energética local.\n",
      "\n",
      "La capacidad de generación de 140 kW asegurará un suministro estable y constante.\n",
      "\n",
      "La planta será capaz de producir 120 kW de electricidad limpia y renovable.\n",
      "\n",
      "Con una capacidad de 170 kW, la planta será un pilar en la transición hacia energías renovables.\n",
      "\n",
      "Se estima que la planta genere 110 kilovatios al día, promoviendo la independencia energética regional.\n",
      "1. La planta solar fotovoltaica tendrá una potencia de 50 kw.\n",
      "2. La central hidroeléctrica generará 1000 kw de energía limpia.\n",
      "3. La planta eólica marina tendrá una capacidad de 300 kw.\n",
      "4. Se espera que la nueva planta geotérmica genere 25 kw de energía.\n",
      "5. La central de biomasa producirá 500 kw de energía renovable.\n",
      "6. La planta de energía solar concentrada tendrá una potencia de 150 kw.\n",
      "7. La central nuclear generará 900 kw de electricidad.\n",
      "8. La planta de cogeneración producirá 40 kw de electricidad y 20 kw de calor.\n",
      "9. Se espera que la nueva planta de energía undimotriz genere 10 kw de energía.\n",
      "10. La planta de energía mareomotriz tendrá una capacidad de 80 kw.\n",
      "11. La inversión en la planta de 500 kw permitirá abastecer a miles de hogares.\n",
      "12. La construcción de la central de 100 kw se completará en el próximo año.\n",
      "13. La planta de 25 kw se ubicará en una zona rural con escaso acceso a la energía.\n",
      "14. La central de 500 kw utilizará tecnología de última generación para maximizar la eficiencia.\n",
      "15. La planta de 150 kw forma parte de un plan para aumentar la participación de las energías renovables en la matriz energética.\n",
      "16. La central de 900 kw es una de las más grandes del país.\n",
      "17. La planta de 40 kw proporcionará energía a una empresa industrial.\n",
      "18. La planta de 10 kw es un proyecto piloto para probar esta tecnología en la región.\n",
      "19. La planta de 80 kw aprovechará las mareas para generar energía limpia.\n",
      "20. La construcción de la planta de 300 kw generará cientos de empleos.\n"
     ]
    }
   ],
   "source": [
    "texts = []\n",
    "for file in os.listdir(DATA_PATH):\n",
    "    with open(os.path.join(DATA_PATH, file), 'r') as f:\n",
    "        texts.append(f.read())\n",
    "# print number of texts\n",
    "print(f'Number of texts: {len(texts)}')\n",
    "print(f'Example text: {texts[random.randint(0, len(texts))]}')\n"
   ]
  },
  {
   "cell_type": "markdown",
   "metadata": {},
   "source": [
    "## Pre-processing"
   ]
  },
  {
   "cell_type": "markdown",
   "metadata": {},
   "source": [
    "### Sentence segmentation\n",
    "Sentence segmentation is a crucial preprocessing step for many Natural Language Processing (NLP) tasks, including Named Entity Recognition (NER). NER models often rely on surrounding words to accurately identify entities. Splitting text into sentences provides clear contextual boundaries, enhancing the model's ability to understand the relationships between words and identify entities more effectively."
   ]
  },
  {
   "cell_type": "code",
   "execution_count": 44,
   "metadata": {},
   "outputs": [],
   "source": [
    "nlp = spacy.blank('es')\n",
    "sentencizer = nlp.add_pipe(\"sentencizer\")\n",
    "\n",
    "sentencizer = Sentencizer()\n",
    "doc = nlp(\"This is a sentence. This is another sentence.\")\n",
    "assert len(list(doc.sents)) == 2"
   ]
  },
  {
   "cell_type": "code",
   "execution_count": 45,
   "metadata": {},
   "outputs": [
    {
     "name": "stdout",
     "output_type": "stream",
     "text": [
      "Number of sentences: 395\n",
      "Example sentence: \n",
      "La planta está ubicada en la provincia de Santiago, República Dominicana.\n",
      "Average sentences per text: 39.5\n"
     ]
    }
   ],
   "source": [
    "sentences = []\n",
    "for text in texts:\n",
    "    doc = nlp(text)\n",
    "    for sent in doc.sents:\n",
    "        sentences.append(sent.text)\n",
    "\n",
    "print(f'Number of sentences: {len(sentences)}')\n",
    "print(f'Example sentence: {sentences[1]}')\n",
    "print(f'Average sentences per text: {len(sentences) / len(texts)}')"
   ]
  },
  {
   "cell_type": "markdown",
   "metadata": {},
   "source": [
    "### Semi-Automated Data Annotation for NER\n",
    "Training an NER model requires a labelled dataset where each piece of text (sentence or document) has its relevant entities identified and categorized. Here, we'll leverage a semi-automated approach to expedite the annotation process:\n",
    "\n",
    "1. Rule-Based Extraction:\n",
    "\n",
    "Regular Expressions (Regex): We'll utilize regular expressions to extract specific entity patterns from the synthetic reports. This can be effective for capturing entities with consistent formats, such as:\n",
    "Energy Capacity: Patterns like \\d+(KW|MWh) can target numerical values followed by units (kilowatts or megawatt-hours).\n",
    "Dates: Regex can identify common date formats (e.g., \"DD/MM/YYYY\", \"YYYY-MM-DD\") for installation dates.\n",
    "\n",
    "2. Pre-trained NER Model Integration:\n",
    "\n",
    "Location Recognition: We'll leverage a pre-trained English NER model (e.g., spaCy's en_core_web_sm) to identify potential locations within the reports. This can be particularly beneficial for recognizing city and state names. Keep in mind that depending on the model's training data, accuracy for specific locations might vary.\n",
    "\n",
    "3. Combining Results and Manual Refinement:\n",
    "\n",
    "Automatic Annotation: The identified entities from both regex and the pre-trained model will be automatically tagged within the text data.\n",
    "Manual Review: manually reviewing these automatic annotations. This allows for correcting any errors, disambiguating potential ambiguities, and identifying any missed entities not captured by the automated methods."
   ]
  },
  {
   "cell_type": "code",
   "execution_count": 55,
   "metadata": {},
   "outputs": [
    {
     "data": {
      "text/html": [
       "<span class=\"tex2jax_ignore\"><div class=\"entities\" style=\"line-height: 2.5; direction: ltr\">La central hidroeléctrica generará \n",
       "<mark class=\"entity\" style=\"background: #ddd; padding: 0.45em 0.6em; margin: 0 0.25em; line-height: 1; border-radius: 0.35em;\">\n",
       "    1000 kw\n",
       "    <span style=\"font-size: 0.8em; font-weight: bold; line-height: 1; border-radius: 0.35em; vertical-align: middle; margin-left: 0.5rem\">ENERGY_CAPACITY</span>\n",
       "</mark>\n",
       " de energía limpia.</div></span>"
      ],
      "text/plain": [
       "<IPython.core.display.HTML object>"
      ]
     },
     "metadata": {},
     "output_type": "display_data"
    },
    {
     "data": {
      "text/html": [
       "<span class=\"tex2jax_ignore\"><div class=\"entities\" style=\"line-height: 2.5; direction: ltr\"><br>La capacidad de generación de \n",
       "<mark class=\"entity\" style=\"background: #ddd; padding: 0.45em 0.6em; margin: 0 0.25em; line-height: 1; border-radius: 0.35em;\">\n",
       "    120 kw\n",
       "    <span style=\"font-size: 0.8em; font-weight: bold; line-height: 1; border-radius: 0.35em; vertical-align: middle; margin-left: 0.5rem\">ENERGY_CAPACITY</span>\n",
       "</mark>\n",
       " asegurará un suministro estable y sostenible.</div></span>"
      ],
      "text/plain": [
       "<IPython.core.display.HTML object>"
      ]
     },
     "metadata": {},
     "output_type": "display_data"
    },
    {
     "data": {
      "text/html": [
       "<span class=\"tex2jax_ignore\"><div class=\"entities\" style=\"line-height: 2.5; direction: ltr\">CONCLUSIONES**<br><br>La planta solar fotovoltaica de \n",
       "<mark class=\"entity\" style=\"background: #ddd; padding: 0.45em 0.6em; margin: 0 0.25em; line-height: 1; border-radius: 0.35em;\">\n",
       "    20 kWp\n",
       "    <span style=\"font-size: 0.8em; font-weight: bold; line-height: 1; border-radius: 0.35em; vertical-align: middle; margin-left: 0.5rem\">ENERGY_CAPACITY</span>\n",
       "</mark>\n",
       " en \n",
       "<mark class=\"entity\" style=\"background: #ff9561; padding: 0.45em 0.6em; margin: 0 0.25em; line-height: 1; border-radius: 0.35em;\">\n",
       "    San Carlos de Bariloche\n",
       "    <span style=\"font-size: 0.8em; font-weight: bold; line-height: 1; border-radius: 0.35em; vertical-align: middle; margin-left: 0.5rem\">LOC</span>\n",
       "</mark>\n",
       " es una alternativa viable y sostenible para generar energía eléctrica para autoconsumo y venta del excedente a la compañía distribuidora.</div></span>"
      ],
      "text/plain": [
       "<IPython.core.display.HTML object>"
      ]
     },
     "metadata": {},
     "output_type": "display_data"
    },
    {
     "data": {
      "text/html": [
       "<span class=\"tex2jax_ignore\"><div class=\"entities\" style=\"line-height: 2.5; direction: ltr\"><br><br>Se espera que la planta genere \n",
       "<mark class=\"entity\" style=\"background: #ddd; padding: 0.45em 0.6em; margin: 0 0.25em; line-height: 1; border-radius: 0.35em;\">\n",
       "    75 kW\n",
       "    <span style=\"font-size: 0.8em; font-weight: bold; line-height: 1; border-radius: 0.35em; vertical-align: middle; margin-left: 0.5rem\">ENERGY_CAPACITY</span>\n",
       "</mark>\n",
       " de electricidad al día, satisfaciendo las necesidades locales.</div></span>"
      ],
      "text/plain": [
       "<IPython.core.display.HTML object>"
      ]
     },
     "metadata": {},
     "output_type": "display_data"
    },
    {
     "data": {
      "text/html": [
       "<span class=\"tex2jax_ignore\"><div class=\"entities\" style=\"line-height: 2.5; direction: ltr\"><br>La planta se encuentra en proceso de construcción en la ciudad de \n",
       "<mark class=\"entity\" style=\"background: #ff9561; padding: 0.45em 0.6em; margin: 0 0.25em; line-height: 1; border-radius: 0.35em;\">\n",
       "    Santo Domingo\n",
       "    <span style=\"font-size: 0.8em; font-weight: bold; line-height: 1; border-radius: 0.35em; vertical-align: middle; margin-left: 0.5rem\">LOC</span>\n",
       "</mark>\n",
       ", \n",
       "<mark class=\"entity\" style=\"background: #ff9561; padding: 0.45em 0.6em; margin: 0 0.25em; line-height: 1; border-radius: 0.35em;\">\n",
       "    República Dominicana\n",
       "    <span style=\"font-size: 0.8em; font-weight: bold; line-height: 1; border-radius: 0.35em; vertical-align: middle; margin-left: 0.5rem\">LOC</span>\n",
       "</mark>\n",
       ".</div></span>"
      ],
      "text/plain": [
       "<IPython.core.display.HTML object>"
      ]
     },
     "metadata": {},
     "output_type": "display_data"
    },
    {
     "data": {
      "text/html": [
       "<span class=\"tex2jax_ignore\"><div class=\"entities\" style=\"line-height: 2.5; direction: ltr\"><br>La planta se encuentra en el \n",
       "<mark class=\"entity\" style=\"background: #ff9561; padding: 0.45em 0.6em; margin: 0 0.25em; line-height: 1; border-radius: 0.35em;\">\n",
       "    distrito de Miraflores\n",
       "    <span style=\"font-size: 0.8em; font-weight: bold; line-height: 1; border-radius: 0.35em; vertical-align: middle; margin-left: 0.5rem\">LOC</span>\n",
       "</mark>\n",
       ", \n",
       "<mark class=\"entity\" style=\"background: #ff9561; padding: 0.45em 0.6em; margin: 0 0.25em; line-height: 1; border-radius: 0.35em;\">\n",
       "    Lima\n",
       "    <span style=\"font-size: 0.8em; font-weight: bold; line-height: 1; border-radius: 0.35em; vertical-align: middle; margin-left: 0.5rem\">LOC</span>\n",
       "</mark>\n",
       ", \n",
       "<mark class=\"entity\" style=\"background: #ff9561; padding: 0.45em 0.6em; margin: 0 0.25em; line-height: 1; border-radius: 0.35em;\">\n",
       "    Perú\n",
       "    <span style=\"font-size: 0.8em; font-weight: bold; line-height: 1; border-radius: 0.35em; vertical-align: middle; margin-left: 0.5rem\">LOC</span>\n",
       "</mark>\n",
       ".</div></span>"
      ],
      "text/plain": [
       "<IPython.core.display.HTML object>"
      ]
     },
     "metadata": {},
     "output_type": "display_data"
    }
   ],
   "source": [
    "capacity_pattern = r'\\b(\\d+(\\.\\d+)?)(\\s?)([kmgt])(\\s?(w|h|wp)?)\\b'\n",
    "date_pattern = r'(\\b(\\d{1,2}(\\sde\\s)?(enero|febrero|marzo|abril|mayo|junio|julio|agosto|septiembre|octubre|noviembre|diciembre)(\\sde)?\\s\\d{4})\\b)|(\\b(\\d{1,2}/\\d{1,2}/\\d{4})\\b)'\n",
    "nlp_es = spacy.load('es_core_news_md')\n",
    "\n",
    "docs = []\n",
    "for sentence in sentences:\n",
    "    entities=[]\n",
    "    doc = nlp(sentence)\n",
    "    capacity_matches = [(match.start(), match.end()) for match in re.finditer(capacity_pattern, sentence, re.IGNORECASE)]\n",
    "    date_matches = [(match.start(), match.end()) for match in re.finditer(date_pattern, sentence) ]\n",
    "\n",
    "    for start, end in capacity_matches:\n",
    "        span = doc.char_span(start, end, \"ENERGY_CAPACITY\")\n",
    "        entities.append(span)\n",
    "    for start, end in date_matches:\n",
    "        span = doc.char_span(start, end, \"DATE\")\n",
    "        entities.append(span)   \n",
    "\n",
    "    doc_es = nlp_es(sentence)\n",
    "    loc_entities = []\n",
    "    for ent in doc_es.ents:\n",
    "        if ent.label_ == 'LOC':\n",
    "            entities.append(ent)\n",
    "\n",
    "    loc_entities = []        \n",
    "            \n",
    "    doc.set_ents(entities)\n",
    "    docs.append(doc)\n",
    "\n",
    "random.shuffle(docs)\n",
    "for doc in docs[:10]:\n",
    "    if doc.ents:\n",
    "        displacy.render(doc, style=\"ent\")"
   ]
  },
  {
   "cell_type": "markdown",
   "metadata": {},
   "source": [
    "### Save dataset to be used in next steps of the pipeline"
   ]
  },
  {
   "cell_type": "code",
   "execution_count": 48,
   "metadata": {},
   "outputs": [],
   "source": [
    "\n",
    "doc_bin = DocBin(docs=docs)\n",
    "doc_bin.to_disk(\"./data.spacy\")\n",
    "reader = Corpus(\"./data.spacy\")"
   ]
  }
 ],
 "metadata": {
  "kernelspec": {
   "display_name": ".venv",
   "language": "python",
   "name": "python3"
  },
  "language_info": {
   "codemirror_mode": {
    "name": "ipython",
    "version": 3
   },
   "file_extension": ".py",
   "mimetype": "text/x-python",
   "name": "python",
   "nbconvert_exporter": "python",
   "pygments_lexer": "ipython3",
   "version": "3.10.5"
  }
 },
 "nbformat": 4,
 "nbformat_minor": 2
}
